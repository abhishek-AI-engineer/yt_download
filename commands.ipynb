{
 "cells": [
  {
   "cell_type": "code",
   "execution_count": 21,
   "metadata": {},
   "outputs": [],
   "source": [
    "import os\n",
    "import json\n",
    "import youtube_dl"
   ]
  },
  {
   "cell_type": "code",
   "execution_count": 32,
   "metadata": {},
   "outputs": [
    {
     "data": {
      "text/plain": [
       "'youtube-dl \"https://www.youtube.com/watch?v=GZbeL5AcTgw\" -j'"
      ]
     },
     "execution_count": 32,
     "metadata": {},
     "output_type": "execute_result"
    }
   ],
   "source": [
    "url = \"https://www.youtube.com/watch?v=GZbeL5AcTgw\"\n",
    "# \"https://www.dailymotion.com/video/x929h8e\"\n",
    "command = f'youtube-dl \"{url}\" -j'\n",
    "command"
   ]
  },
  {
   "cell_type": "code",
   "execution_count": 33,
   "metadata": {},
   "outputs": [
    {
     "data": {
      "text/plain": [
       "''"
      ]
     },
     "execution_count": 33,
     "metadata": {},
     "output_type": "execute_result"
    }
   ],
   "source": [
    "output = os.popen(command).read()\n",
    "output"
   ]
  },
  {
   "cell_type": "code",
   "execution_count": 26,
   "metadata": {},
   "outputs": [
    {
     "ename": "KeyError",
     "evalue": "'thumbnail'",
     "output_type": "error",
     "traceback": [
      "\u001b[1;31m---------------------------------------------------------------------------\u001b[0m",
      "\u001b[1;31mKeyError\u001b[0m                                  Traceback (most recent call last)",
      "Cell \u001b[1;32mIn[26], line 2\u001b[0m\n\u001b[0;32m      1\u001b[0m video_data \u001b[38;5;241m=\u001b[39m json\u001b[38;5;241m.\u001b[39mloads(output)\n\u001b[1;32m----> 2\u001b[0m \u001b[43mvideo_data\u001b[49m\u001b[43m[\u001b[49m\u001b[38;5;124;43m'\u001b[39;49m\u001b[38;5;124;43mthumbnail\u001b[39;49m\u001b[38;5;124;43m'\u001b[39;49m\u001b[43m]\u001b[49m\n\u001b[0;32m      3\u001b[0m \u001b[38;5;66;03m# for format in video_data['formats']:\u001b[39;00m\n\u001b[0;32m      4\u001b[0m \u001b[38;5;66;03m#     print(format.url)\u001b[39;00m\n",
      "\u001b[1;31mKeyError\u001b[0m: 'thumbnail'"
     ]
    }
   ],
   "source": [
    "video_data = json.loads(output)\n",
    "video_data['thumbnail']\n",
    "# for format in video_data['formats']:\n",
    "#     print(format.url)\n"
   ]
  },
  {
   "cell_type": "code",
   "execution_count": 27,
   "metadata": {},
   "outputs": [
    {
     "data": {
      "text/plain": [
       "('02_MachineLearningTermonology',\n",
       " [{'format_id': 'hls-380',\n",
       "   'url': 'https://vod3.cf.dmcdn.net/sec2(aSX0-gB2821Iv5CyjfxOErnOYk_E1_Ug1DLKxd3DgSlI5yLHCOjH7IFnrCM_bii8VLabfJ3Eln47LlXCKnCyt-pzItXxBFqmY2QgmOockKE1QgOX_tW75MYSxMVTrSTSXdZi11MW-1lgz2Qplb44UA)/video/450/799/547997054_mp4_h264_aac_3.m3u8',\n",
       "   'manifest_url': 'https://www.dailymotion.com/cdn/manifest/video/x929h8e.m3u8?sec=tvKmlHqnUQO8KuyGE7psArFbxHUlbi1y1Tg0eAE9LwGcVmaUmkWHDD_EnDHCsoss&dmTs=987916&dmV1st=F2EA048C7CF6D866F15E263AFCAF21B2',\n",
       "   'tbr': 460.56,\n",
       "   'ext': 'mp4',\n",
       "   'fps': None,\n",
       "   'protocol': 'm3u8_native',\n",
       "   'preference': None,\n",
       "   'width': 512,\n",
       "   'height': 288,\n",
       "   'vcodec': 'avc1.4d0016',\n",
       "   'acodec': 'mp4a.40.5',\n",
       "   'format': 'hls-380 - 512x288',\n",
       "   'http_headers': {'User-Agent': 'Mozilla/5.0 (Windows NT 10.0; Win64; x64) AppleWebKit/537.36 (KHTML, like Gecko) Chrome/74.0.3724.3 Safari/537.36',\n",
       "    'Accept-Charset': 'ISO-8859-1,utf-8;q=0.7,*;q=0.7',\n",
       "    'Accept': 'text/html,application/xhtml+xml,application/xml;q=0.9,*/*;q=0.8',\n",
       "    'Accept-Encoding': 'gzip, deflate',\n",
       "    'Accept-Language': 'en-us,en;q=0.5'}},\n",
       "  {'format_id': 'http-380',\n",
       "   'url': 'https://vod3.cf.dmcdn.net/sec2(Ydi1s0q7TrqdDm2YPtEUf4yq70jT3IvoXLfekFDQcv3PugC3zEVM6dOVCSEYIjo-NtJP8PPuSOuZNcquK1_jpaASzXkxRpochNH8tCkk6JPmKbcE-AQDQxD4N2TR_Pw_OUMh8CQ7HXutUx4J66WKMqP47wk1rukQLtNlMazO80s)/video/450/799/547997054_mp4_h264_aac_3.mp4',\n",
       "   'tbr': 460.56,\n",
       "   'ext': 'mp4',\n",
       "   'fps': None,\n",
       "   'protocol': 'http',\n",
       "   'preference': None,\n",
       "   'width': 512,\n",
       "   'height': 288,\n",
       "   'vcodec': 'avc1.4d0016',\n",
       "   'acodec': 'mp4a.40.5',\n",
       "   'format': 'http-380 - 512x288',\n",
       "   'http_headers': {'User-Agent': 'Mozilla/5.0 (Windows NT 10.0; Win64; x64) AppleWebKit/537.36 (KHTML, like Gecko) Chrome/74.0.3724.3 Safari/537.36',\n",
       "    'Accept-Charset': 'ISO-8859-1,utf-8;q=0.7,*;q=0.7',\n",
       "    'Accept': 'text/html,application/xhtml+xml,application/xml;q=0.9,*/*;q=0.8',\n",
       "    'Accept-Encoding': 'gzip, deflate',\n",
       "    'Accept-Language': 'en-us,en;q=0.5'}},\n",
       "  {'format_id': 'hls-480',\n",
       "   'url': 'https://vod3.cf.dmcdn.net/sec2(BcBb3idB4TfIjktCetsl-kW92wVR4iLKLAMrmT-DfH4sB48F0H13ZZ6H6-lwurPymAQgLoBXlah-qIbC-Og1qvbKjroYlgvHYr92i3blmEdzIwZ2cw-AqlaHoc3ONeulIZjYCRf75tqWcfPVxs87KA)/video/450/799/547997054_mp4_h264_aac_hq_3.m3u8',\n",
       "   'manifest_url': 'https://www.dailymotion.com/cdn/manifest/video/x929h8e.m3u8?sec=tvKmlHqnUQO8KuyGE7psArFbxHUlbi1y1Tg0eAE9LwGcVmaUmkWHDD_EnDHCsoss&dmTs=987916&dmV1st=F2EA048C7CF6D866F15E263AFCAF21B2',\n",
       "   'tbr': 836.28,\n",
       "   'ext': 'mp4',\n",
       "   'fps': None,\n",
       "   'protocol': 'm3u8_native',\n",
       "   'preference': None,\n",
       "   'width': 848,\n",
       "   'height': 480,\n",
       "   'vcodec': 'avc1.64001f',\n",
       "   'acodec': 'mp4a.40.2',\n",
       "   'format': 'hls-480 - 848x480',\n",
       "   'http_headers': {'User-Agent': 'Mozilla/5.0 (Windows NT 10.0; Win64; x64) AppleWebKit/537.36 (KHTML, like Gecko) Chrome/74.0.3724.3 Safari/537.36',\n",
       "    'Accept-Charset': 'ISO-8859-1,utf-8;q=0.7,*;q=0.7',\n",
       "    'Accept': 'text/html,application/xhtml+xml,application/xml;q=0.9,*/*;q=0.8',\n",
       "    'Accept-Encoding': 'gzip, deflate',\n",
       "    'Accept-Language': 'en-us,en;q=0.5'}},\n",
       "  {'format_id': 'http-480',\n",
       "   'url': 'https://vod3.cf.dmcdn.net/sec2(y_naFy6-bdaT6mOyQrynEXfZb5XAHiguPV3phgSRTTOVO-HbGu76SS0dbhwQOzblo0F2xCHjWAn2OO6BXEYhW5KtVTvM51U-gNcvhRWHoxvC_Wij8eIGab5KveWW0BzABd_rPKnPPndzkndQCf4cUwjgdPtxH5QhuK7g2uuMrPM)/video/450/799/547997054_mp4_h264_aac_hq_3.mp4',\n",
       "   'tbr': 836.28,\n",
       "   'ext': 'mp4',\n",
       "   'fps': None,\n",
       "   'protocol': 'http',\n",
       "   'preference': None,\n",
       "   'width': 848,\n",
       "   'height': 480,\n",
       "   'vcodec': 'avc1.64001f',\n",
       "   'acodec': 'mp4a.40.2',\n",
       "   'format': 'http-480 - 848x480',\n",
       "   'http_headers': {'User-Agent': 'Mozilla/5.0 (Windows NT 10.0; Win64; x64) AppleWebKit/537.36 (KHTML, like Gecko) Chrome/74.0.3724.3 Safari/537.36',\n",
       "    'Accept-Charset': 'ISO-8859-1,utf-8;q=0.7,*;q=0.7',\n",
       "    'Accept': 'text/html,application/xhtml+xml,application/xml;q=0.9,*/*;q=0.8',\n",
       "    'Accept-Encoding': 'gzip, deflate',\n",
       "    'Accept-Language': 'en-us,en;q=0.5'}},\n",
       "  {'format_id': 'hls-720',\n",
       "   'url': 'https://vod3.cf.dmcdn.net/sec2(0lZNUmha6cVS4-ezRPX5Fi_4RpGkzd1DVexiyoQ3u94lxUcMLiV6eEE4-WqN88_Qxm_fy1TVgT_uL3tBz-qTxahBsl4W0jOtVEGvEZl99kL-PhJofnixyo3VfA9rdb3BeIV3wlsdzQUdtOvPwQFLhQ)/video/450/799/547997054_mp4_h264_aac_hd_3.m3u8',\n",
       "   'manifest_url': 'https://www.dailymotion.com/cdn/manifest/video/x929h8e.m3u8?sec=tvKmlHqnUQO8KuyGE7psArFbxHUlbi1y1Tg0eAE9LwGcVmaUmkWHDD_EnDHCsoss&dmTs=987916&dmV1st=F2EA048C7CF6D866F15E263AFCAF21B2',\n",
       "   'tbr': 2149.28,\n",
       "   'ext': 'mp4',\n",
       "   'fps': None,\n",
       "   'protocol': 'm3u8_native',\n",
       "   'preference': None,\n",
       "   'width': 1280,\n",
       "   'height': 720,\n",
       "   'vcodec': 'avc1.64001f',\n",
       "   'acodec': 'mp4a.40.2',\n",
       "   'format': 'hls-720 - 1280x720',\n",
       "   'http_headers': {'User-Agent': 'Mozilla/5.0 (Windows NT 10.0; Win64; x64) AppleWebKit/537.36 (KHTML, like Gecko) Chrome/74.0.3724.3 Safari/537.36',\n",
       "    'Accept-Charset': 'ISO-8859-1,utf-8;q=0.7,*;q=0.7',\n",
       "    'Accept': 'text/html,application/xhtml+xml,application/xml;q=0.9,*/*;q=0.8',\n",
       "    'Accept-Encoding': 'gzip, deflate',\n",
       "    'Accept-Language': 'en-us,en;q=0.5'}},\n",
       "  {'format_id': 'http-720',\n",
       "   'url': 'https://vod3.cf.dmcdn.net/sec2(YD_yfulUupiNFirpaBRNP4CUWkNie2jqJvqBuphbUEXSNxfdFTq9gRZbT_8-0eG9siG1zDYFChe-h5g4PclfAgw1ai8scEBbGLfjhLqN7MEeiH8V8jWL2YABPQ-3Ukxexwv1LR7hVvG9cFklheuqb15tcKjednbvxBMQUfc3DIg)/video/450/799/547997054_mp4_h264_aac_hd_3.mp4',\n",
       "   'tbr': 2149.28,\n",
       "   'ext': 'mp4',\n",
       "   'fps': None,\n",
       "   'protocol': 'http',\n",
       "   'preference': None,\n",
       "   'width': 1280,\n",
       "   'height': 720,\n",
       "   'vcodec': 'avc1.64001f',\n",
       "   'acodec': 'mp4a.40.2',\n",
       "   'format': 'http-720 - 1280x720',\n",
       "   'http_headers': {'User-Agent': 'Mozilla/5.0 (Windows NT 10.0; Win64; x64) AppleWebKit/537.36 (KHTML, like Gecko) Chrome/74.0.3724.3 Safari/537.36',\n",
       "    'Accept-Charset': 'ISO-8859-1,utf-8;q=0.7,*;q=0.7',\n",
       "    'Accept': 'text/html,application/xhtml+xml,application/xml;q=0.9,*/*;q=0.8',\n",
       "    'Accept-Encoding': 'gzip, deflate',\n",
       "    'Accept-Language': 'en-us,en;q=0.5'}},\n",
       "  {'format_id': 'hls-1080',\n",
       "   'url': 'https://vod3.cf.dmcdn.net/sec2(luhge-oGN-KnaaUQVO_YjmsL3rbG2JhFVt-4ux9hfGp3sYdpyoFv3EkFZkasG4GeMJ7Yv_C0u-Ojpz_livpjpIXFJDRo0uV2JCi-irVNrwhA4y-Iba9BdfVZpZRjNskufFFDZPIvdF2hy0SiylQN5Q)/video/450/799/547997054_mp4_h264_aac_fhd_3.m3u8',\n",
       "   'manifest_url': 'https://www.dailymotion.com/cdn/manifest/video/x929h8e.m3u8?sec=tvKmlHqnUQO8KuyGE7psArFbxHUlbi1y1Tg0eAE9LwGcVmaUmkWHDD_EnDHCsoss&dmTs=987916&dmV1st=F2EA048C7CF6D866F15E263AFCAF21B2',\n",
       "   'tbr': 6221.6,\n",
       "   'ext': 'mp4',\n",
       "   'fps': None,\n",
       "   'protocol': 'm3u8_native',\n",
       "   'preference': None,\n",
       "   'width': 1920,\n",
       "   'height': 1080,\n",
       "   'vcodec': 'avc1.640028',\n",
       "   'acodec': 'mp4a.40.2',\n",
       "   'format': 'hls-1080 - 1920x1080',\n",
       "   'http_headers': {'User-Agent': 'Mozilla/5.0 (Windows NT 10.0; Win64; x64) AppleWebKit/537.36 (KHTML, like Gecko) Chrome/74.0.3724.3 Safari/537.36',\n",
       "    'Accept-Charset': 'ISO-8859-1,utf-8;q=0.7,*;q=0.7',\n",
       "    'Accept': 'text/html,application/xhtml+xml,application/xml;q=0.9,*/*;q=0.8',\n",
       "    'Accept-Encoding': 'gzip, deflate',\n",
       "    'Accept-Language': 'en-us,en;q=0.5'}},\n",
       "  {'format_id': 'http-1080',\n",
       "   'url': 'https://vod3.cf.dmcdn.net/sec2(fQz0EkBP13uZ_Q90ousCbCS_UErNe3smUSBBq6Gl4-hRothFFv_fP3YR4x-0nLxno9TSMnh6QXrZPsZFJ0f5eK6xoYTK8Hi1xWJ2sNReO5k8zbWcEIdteH7kn6n36y5IVvQ_c9CUQgdA1BaatHUawoYo19oCyWpytC-noC-1Pno)/video/450/799/547997054_mp4_h264_aac_fhd_3.mp4',\n",
       "   'tbr': 6221.6,\n",
       "   'ext': 'mp4',\n",
       "   'fps': None,\n",
       "   'protocol': 'http',\n",
       "   'preference': None,\n",
       "   'width': 1920,\n",
       "   'height': 1080,\n",
       "   'vcodec': 'avc1.640028',\n",
       "   'acodec': 'mp4a.40.2',\n",
       "   'format': 'http-1080 - 1920x1080',\n",
       "   'http_headers': {'User-Agent': 'Mozilla/5.0 (Windows NT 10.0; Win64; x64) AppleWebKit/537.36 (KHTML, like Gecko) Chrome/74.0.3724.3 Safari/537.36',\n",
       "    'Accept-Charset': 'ISO-8859-1,utf-8;q=0.7,*;q=0.7',\n",
       "    'Accept': 'text/html,application/xhtml+xml,application/xml;q=0.9,*/*;q=0.8',\n",
       "    'Accept-Encoding': 'gzip, deflate',\n",
       "    'Accept-Language': 'en-us,en;q=0.5'}}])"
      ]
     },
     "execution_count": 27,
     "metadata": {},
     "output_type": "execute_result"
    }
   ],
   "source": [
    "title = video_data['title']\n",
    "formats = video_data['formats']\n",
    "thumbnail = video_data['thumbnails']\n",
    "title, formats"
   ]
  },
  {
   "cell_type": "code",
   "execution_count": 27,
   "metadata": {},
   "outputs": [
    {
     "data": {
      "text/plain": [
       "'hls-380 - 512x288'"
      ]
     },
     "execution_count": 27,
     "metadata": {},
     "output_type": "execute_result"
    }
   ],
   "source": [
    "extension = first_one[\"ext\"]\n",
    "video_format = first_one[\"format\"]\n",
    "url = first_one['url']\n",
    "video_format"
   ]
  },
  {
   "cell_type": "code",
   "execution_count": 14,
   "metadata": {},
   "outputs": [
    {
     "data": {
      "text/plain": [
       "('mp4',\n",
       " 'hls-380 - 512x288',\n",
       " 'https://vod3.cf.dmcdn.net/sec2(GEwpA2U7H882qAxzl7uEhSGpHjCA77-PSNnwQNE-IPIM5RwZvz-ccVzcMPbhyHEPGkH1No6B_rFDGP6QuvXxfV82voRsADikNTuVIWTi7gM56mm82BtE4NbAPeQL6hxPCI2XdBbxuJGBo-wGOc7yrw)/video/450/799/547997054_mp4_h264_aac_3.m3u8')"
      ]
     },
     "execution_count": 14,
     "metadata": {},
     "output_type": "execute_result"
    }
   ],
   "source": [
    "extension,video_format,url"
   ]
  },
  {
   "cell_type": "code",
   "execution_count": 9,
   "metadata": {},
   "outputs": [
    {
     "ename": "NameError",
     "evalue": "name 'video_data' is not defined",
     "output_type": "error",
     "traceback": [
      "\u001b[1;31m---------------------------------------------------------------------------\u001b[0m",
      "\u001b[1;31mNameError\u001b[0m                                 Traceback (most recent call last)",
      "Cell \u001b[1;32mIn[9], line 1\u001b[0m\n\u001b[1;32m----> 1\u001b[0m thumbnail \u001b[38;5;241m=\u001b[39m \u001b[43mvideo_data\u001b[49m[\u001b[38;5;124m\"\u001b[39m\u001b[38;5;124mthumbnails\u001b[39m\u001b[38;5;124m\"\u001b[39m]\n\u001b[0;32m      2\u001b[0m thumbnail\n",
      "\u001b[1;31mNameError\u001b[0m: name 'video_data' is not defined"
     ]
    }
   ],
   "source": [
    "thumbnail = video_data[\"thumbnails\"]\n",
    "thumbnail"
   ]
  },
  {
   "cell_type": "code",
   "execution_count": 56,
   "metadata": {},
   "outputs": [],
   "source": [
    "def extract_format_data(format_data):\n",
    "    extension = format_data['ext']\n",
    "    format_name = format_data[\"format\"]\n",
    "    url = format_data[\"url\"]\n",
    "    return {\n",
    "        \"extenction\": extension,\n",
    "        \"format_name\": format_name,\n",
    "        \"url\": url\n",
    "    }\n",
    "# # extrate_format_data()\n",
    "all_formats = [extract_format_data(format_data) for format_data in formats]\n"
   ]
  },
  {
   "cell_type": "code",
   "execution_count": 28,
   "metadata": {},
   "outputs": [],
   "source": [
    "import os\n",
    "import json\n",
    "import youtube_dl\n",
    "\n",
    "def extract_format_data(format_data):\n",
    "    extension = format_data[\"ext\"]\n",
    "    format_name = format_data[\"format\"]\n",
    "    url = format_data[\"url\"]\n",
    "    return {\n",
    "        \"extension\": extension,\n",
    "        \"format_name\": format_name,\n",
    "        \"url\": url\n",
    "    } \n",
    "def extract_video_data_from_url(url):\n",
    "    command = f'youtube-dl \"{url}\" -j'\n",
    "    output = os.popen(command).read()\n",
    "    video_data = json.loads(output)\n",
    "    title = video_data['title']\n",
    "    formats = video_data['formats']\n",
    "    thumbnail = video_data[\"thumbnails\"]\n",
    "    formats = [extract_format_data(format_data) for format_data in formats]\n",
    "    return {\n",
    "        \"title\":title,\n",
    "        \"formats\":formats,\n",
    "        \"thumbnail\":thumbnail\n",
    "    }"
   ]
  },
  {
   "cell_type": "code",
   "execution_count": 31,
   "metadata": {},
   "outputs": [
    {
     "data": {
      "text/plain": [
       "{'title': '02_MachineLearningTermonology',\n",
       " 'formats': [{'extension': 'mp4',\n",
       "   'format_name': 'hls-380 - 512x288',\n",
       "   'url': 'https://vod3.cf.dmcdn.net/sec2(aSX0-gB2821Iv5CyjfxOErnOYk_E1_Ug1DLKxd3DgSlI5yLHCOjH7IFnrCM_bii8VLabfJ3Eln47LlXCKnCyt-pzItXxBFqmY2QgmOockKE1QgOX_tW75MYSxMVTrSTSXdZi11MW-1lgz2Qplb44UA)/video/450/799/547997054_mp4_h264_aac_3.m3u8'},\n",
       "  {'extension': 'mp4',\n",
       "   'format_name': 'http-380 - 512x288',\n",
       "   'url': 'https://vod3.cf.dmcdn.net/sec2(Ydi1s0q7TrqdDm2YPtEUf4yq70jT3IvoXLfekFDQcv3PugC3zEVM6dOVCSEYIjo-NtJP8PPuSOuZNcquK1_jpaASzXkxRpochNH8tCkk6JPmKbcE-AQDQxD4N2TR_Pw_OUMh8CQ7HXutUx4J66WKMqP47wk1rukQLtNlMazO80s)/video/450/799/547997054_mp4_h264_aac_3.mp4'},\n",
       "  {'extension': 'mp4',\n",
       "   'format_name': 'hls-480 - 848x480',\n",
       "   'url': 'https://vod3.cf.dmcdn.net/sec2(BcBb3idB4TfIjktCetsl-kW92wVR4iLKLAMrmT-DfH4sB48F0H13ZZ6H6-lwurPymAQgLoBXlah-qIbC-Og1qvbKjroYlgvHYr92i3blmEdzIwZ2cw-AqlaHoc3ONeulIZjYCRf75tqWcfPVxs87KA)/video/450/799/547997054_mp4_h264_aac_hq_3.m3u8'},\n",
       "  {'extension': 'mp4',\n",
       "   'format_name': 'http-480 - 848x480',\n",
       "   'url': 'https://vod3.cf.dmcdn.net/sec2(y_naFy6-bdaT6mOyQrynEXfZb5XAHiguPV3phgSRTTOVO-HbGu76SS0dbhwQOzblo0F2xCHjWAn2OO6BXEYhW5KtVTvM51U-gNcvhRWHoxvC_Wij8eIGab5KveWW0BzABd_rPKnPPndzkndQCf4cUwjgdPtxH5QhuK7g2uuMrPM)/video/450/799/547997054_mp4_h264_aac_hq_3.mp4'},\n",
       "  {'extension': 'mp4',\n",
       "   'format_name': 'hls-720 - 1280x720',\n",
       "   'url': 'https://vod3.cf.dmcdn.net/sec2(0lZNUmha6cVS4-ezRPX5Fi_4RpGkzd1DVexiyoQ3u94lxUcMLiV6eEE4-WqN88_Qxm_fy1TVgT_uL3tBz-qTxahBsl4W0jOtVEGvEZl99kL-PhJofnixyo3VfA9rdb3BeIV3wlsdzQUdtOvPwQFLhQ)/video/450/799/547997054_mp4_h264_aac_hd_3.m3u8'},\n",
       "  {'extension': 'mp4',\n",
       "   'format_name': 'http-720 - 1280x720',\n",
       "   'url': 'https://vod3.cf.dmcdn.net/sec2(YD_yfulUupiNFirpaBRNP4CUWkNie2jqJvqBuphbUEXSNxfdFTq9gRZbT_8-0eG9siG1zDYFChe-h5g4PclfAgw1ai8scEBbGLfjhLqN7MEeiH8V8jWL2YABPQ-3Ukxexwv1LR7hVvG9cFklheuqb15tcKjednbvxBMQUfc3DIg)/video/450/799/547997054_mp4_h264_aac_hd_3.mp4'},\n",
       "  {'extension': 'mp4',\n",
       "   'format_name': 'hls-1080 - 1920x1080',\n",
       "   'url': 'https://vod3.cf.dmcdn.net/sec2(luhge-oGN-KnaaUQVO_YjmsL3rbG2JhFVt-4ux9hfGp3sYdpyoFv3EkFZkasG4GeMJ7Yv_C0u-Ojpz_livpjpIXFJDRo0uV2JCi-irVNrwhA4y-Iba9BdfVZpZRjNskufFFDZPIvdF2hy0SiylQN5Q)/video/450/799/547997054_mp4_h264_aac_fhd_3.m3u8'},\n",
       "  {'extension': 'mp4',\n",
       "   'format_name': 'http-1080 - 1920x1080',\n",
       "   'url': 'https://vod3.cf.dmcdn.net/sec2(fQz0EkBP13uZ_Q90ousCbCS_UErNe3smUSBBq6Gl4-hRothFFv_fP3YR4x-0nLxno9TSMnh6QXrZPsZFJ0f5eK6xoYTK8Hi1xWJ2sNReO5k8zbWcEIdteH7kn6n36y5IVvQ_c9CUQgdA1BaatHUawoYo19oCyWpytC-noC-1Pno)/video/450/799/547997054_mp4_h264_aac_fhd_3.mp4'}],\n",
       " 'thumbnail': []}"
      ]
     },
     "execution_count": 31,
     "metadata": {},
     "output_type": "execute_result"
    }
   ],
   "source": [
    "extract_video_data_from_url(\"https://www.dailymotion.com/video/x929h8e\")"
   ]
  },
  {
   "cell_type": "code",
   "execution_count": null,
   "metadata": {},
   "outputs": [],
   "source": []
  },
  {
   "cell_type": "code",
   "execution_count": null,
   "metadata": {},
   "outputs": [],
   "source": []
  },
  {
   "cell_type": "code",
   "execution_count": null,
   "metadata": {},
   "outputs": [],
   "source": []
  }
 ],
 "metadata": {
  "kernelspec": {
   "display_name": "venv",
   "language": "python",
   "name": "python3"
  },
  "language_info": {
   "codemirror_mode": {
    "name": "ipython",
    "version": 3
   },
   "file_extension": ".py",
   "mimetype": "text/x-python",
   "name": "python",
   "nbconvert_exporter": "python",
   "pygments_lexer": "ipython3",
   "version": "3.10.9"
  }
 },
 "nbformat": 4,
 "nbformat_minor": 2
}
